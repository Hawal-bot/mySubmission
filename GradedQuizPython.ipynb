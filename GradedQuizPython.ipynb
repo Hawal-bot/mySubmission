{
  "nbformat": 4,
  "nbformat_minor": 0,
  "metadata": {
    "colab": {
      "provenance": []
    },
    "kernelspec": {
      "name": "python3",
      "display_name": "Python 3"
    },
    "language_info": {
      "name": "python"
    }
  },
  "cells": [
    {
      "cell_type": "code",
      "source": [
        "import pandas as pd\n",
        "\n",
        "url = \"https://drive.google.com/file/d/1Z0ptUKf28yD8l4DGatzVwlqXu3qDDOjf/view?usp=sharing\"\n",
        "\n",
        "fbs = pd.read_csv(url)\n",
        "\n",
        "fbs.head\n",
        "\n"
      ],
      "metadata": {
        "colab": {
          "base_uri": "https://localhost:8080/"
        },
        "id": "i28hAI98asO3",
        "outputId": "c1d2b22e-fcf1-485e-d72d-1232e3055add"
      },
      "execution_count": 1,
      "outputs": [
        {
          "output_type": "execute_result",
          "data": {
            "text/plain": [
              "<bound method NDFrame.head of     <!DOCTYPE html><html><head><meta name=\"google\" content=\"notranslate\"><meta http-equiv=\"X-UA-Compatible\" content=\"IE=edge;\"><style nonce=\"wqTnHwaqx7MRLQUgC_1uXA\">@font-face{font-family:'Roboto';font-style:italic;font-weight:400;src:url(//fonts.gstatic.com/s/roboto/v18/KFOkCnqEu92Fr1Mu51xIIzc.ttf)format('truetype');}@font-face{font-family:'Roboto';font-style:normal;font-weight:300;src:url(//fonts.gstatic.com/s/roboto/v18/KFOlCnqEu92Fr1MmSU5fBBc9.ttf)format('truetype');}@font-face{font-family:'Roboto';font-style:normal;font-weight:400;src:url(//fonts.gstatic.com/s/roboto/v18/KFOmCnqEu92Fr1Mu4mxP.ttf)format('truetype');}@font-face{font-family:'Roboto';font-style:normal;font-weight:500;src:url(//fonts.gstatic.com/s/roboto/v18/KFOlCnqEu92Fr1MmEU9fBBc9.ttf)format('truetype');}@font-face{font-family:'Roboto';font-style:normal;font-weight:700;src:url(//fonts.gstatic.com/s/roboto/v18/KFOlCnqEu92Fr1MmWUlfBBc9.ttf)format('truetype');}</style><meta name=\"referrer\" content=\"origin\"><title>FoodBalanceSheets_E_Africa_NOFLAG.csv - Google Drive</title><meta property=\"og:title\" content=\"FoodBalanceSheets_E_Africa_NOFLAG.csv\"><meta property=\"og:type\" content=\"article\"><meta property=\"og:site_name\" content=\"Google Docs\"><meta property=\"og:url\" content=\"https://drive.google.com/file/d/1Z0ptUKf28yD8l4DGatzVwlqXu3qDDOjf/view?usp=sharing&amp;usp=embed_facebook\"><link rel=\"shortcut icon\" href=\"https://ssl.gstatic.com/images/branding/product/1x/drive_2020q4_32dp.png\"><link rel=\"stylesheet\" href=\"https://fonts.googleapis.com/css?family=Google+Sans:300  \\\n",
              "0                                                 try{                                                                                                                                                                                                                                                                                                                                                                                                                                                                                                                                                                                                                                                                                                                                                                                                                                                                                                                                                                                                                                                                                                                                                                                                                                                                                                                                                                                                                                                                                                                                                              \n",
              "1                                                   /*                                                                                                                                                                                                                                                                                                                                                                                                                                                                                                                                                                                                                                                                                                                                                                                                                                                                                                                                                                                                                                                                                                                                                                                                                                                                                                                                                                                                                                                                                                                                                              \n",
              "2               Copyright The Closure Library Authors.                                                                                                                                                                                                                                                                                                                                                                                                                                                                                                                                                                                                                                                                                                                                                                                                                                                                                                                                                                                                                                                                                                                                                                                                                                                                                                                                                                                                                                                                                                                                                              \n",
              "3                  SPDX-License-Identifier: Apache-2.0                                                                                                                                                                                                                                                                                                                                                                                                                                                                                                                                                                                                                                                                                                                                                                                                                                                                                                                                                                                                                                                                                                                                                                                                                                                                                                                                                                                                                                                                                                                                                              \n",
              "4                                                   */                                                                                                                                                                                                                                                                                                                                                                                                                                                                                                                                                                                                                                                                                                                                                                                                                                                                                                                                                                                                                                                                                                                                                                                                                                                                                                                                                                                                                                                                                                                                                              \n",
              "..                                                 ...                                                                                                                                                                                                                                                                                                                                                                                                                                                                                                                                                                                                                                                                                                                                                                                                                                                                                                                                                                                                                                                                                                                                                                                                                                                                                                                                                                                                                                                                                                                                                              \n",
              "167                  (function(){var a=_.ge();if(_.E(a                                                                                                                                                                                                                                                                                                                                                                                                                                                                                                                                                                                                                                                                                                                                                                                                                                                                                                                                                                                                                                                                                                                                                                                                                                                                                                                                                                                                                                                                                                                                                              \n",
              "168                     }catch(e){_._DumpException(e)}                                                                                                                                                                                                                                                                                                                                                                                                                                                                                                                                                                                                                                                                                                                                                                                                                                                                                                                                                                                                                                                                                                                                                                                                                                                                                                                                                                                                                                                                                                                                                              \n",
              "169                                    })(this.gbar_);                                                                                                                                                                                                                                                                                                                                                                                                                                                                                                                                                                                                                                                                                                                                                                                                                                                                                                                                                                                                                                                                                                                                                                                                                                                                                                                                                                                                                                                                                                                                                              \n",
              "170                                     // Google Inc.                                                                                                                                                                                                                                                                                                                                                                                                                                                                                                                                                                                                                                                                                                                                                                                                                                                                                                                                                                                                                                                                                                                                                                                                                                                                                                                                                                                                                                                                                                                                                              \n",
              "171  </script><script id=\"base-js\" async type=\"text...                                                                                                                                                                                                                                                                                                                                                                                                                                                                                                                                                                                                                                                                                                                                                                                                                                                                                                                                                                                                                                                                                                                                                                                                                                                                                                                                                                                                                                                                                                                                                              \n",
              "\n",
              "                                                   400  \\\n",
              "0                                                  NaN   \n",
              "1                                                  NaN   \n",
              "2                                                  NaN   \n",
              "3                                                  NaN   \n",
              "4                                                  NaN   \n",
              "..                                                 ...   \n",
              "167                          18))bk();else{var b=_.D(a   \n",
              "168                                                NaN   \n",
              "169                                                NaN   \n",
              "170                                                NaN   \n",
              "171  wb\" nonce=\"nYBFabDpnRu_Sp9v4rUUdg\"></script></...   \n",
              "\n",
              "                                       500  \\\n",
              "0                                      NaN   \n",
              "1                                      NaN   \n",
              "2                                      NaN   \n",
              "3                                      NaN   \n",
              "4                                      NaN   \n",
              "..                                     ...   \n",
              "167  19)||0;window.addEventListener(\"load\"   \n",
              "168                                    NaN   \n",
              "169                                    NaN   \n",
              "170                                    NaN   \n",
              "171                                    NaN   \n",
              "\n",
              "    700\" nonce=\"wqTnHwaqx7MRLQUgC_1uXA\"><link rel=\"stylesheet\" href=\"https://www.gstatic.com/_/apps-fileview/_/ss/k=apps-fileview.v.SjkPjLgyJDs.L.X.O/am=AAg/d=0/rs=AO0039s7Oz14fOyU-Jr9-lMt-2BQPmnPuw\" nonce=\"wqTnHwaqx7MRLQUgC_1uXA\"><script nonce=\"nYBFabDpnRu_Sp9v4rUUdg\">_docs_flag_initialData={\"docs-ails\":\"docs_cold\"  \\\n",
              "0                                                  NaN                                                                                                                                                                                                                                                                          \n",
              "1                                                  NaN                                                                                                                                                                                                                                                                          \n",
              "2                                                  NaN                                                                                                                                                                                                                                                                          \n",
              "3                                                  NaN                                                                                                                                                                                                                                                                          \n",
              "4                                                  NaN                                                                                                                                                                                                                                                                          \n",
              "..                                                 ...                                                                                                                                                                                                                                                                          \n",
              "167                    function(){window.setTimeout(bk                                                                                                                                                                                                                                                                          \n",
              "168                                                NaN                                                                                                                                                                                                                                                                          \n",
              "169                                                NaN                                                                                                                                                                                                                                                                          \n",
              "170                                                NaN                                                                                                                                                                                                                                                                          \n",
              "171                                                NaN                                                                                                                                                                                                                                                                          \n",
              "\n",
              "    docs-fwds:\"docs_sdf\" docs-crs:\"docs_crs_nfd\" docs-l2t:0 docs-shdn:0  \\\n",
              "0                    NaN                     NaN        NaN         NaN   \n",
              "1                    NaN                     NaN        NaN         NaN   \n",
              "2                    NaN                     NaN        NaN         NaN   \n",
              "3                    NaN                     NaN        NaN         NaN   \n",
              "4                    NaN                     NaN        NaN         NaN   \n",
              "..                   ...                     ...        ...         ...   \n",
              "167           b)})}})();                     NaN        NaN         NaN   \n",
              "168                  NaN                     NaN        NaN         NaN   \n",
              "169                  NaN                     NaN        NaN         NaN   \n",
              "170                  NaN                     NaN        NaN         NaN   \n",
              "171                  NaN                     NaN        NaN         NaN   \n",
              "\n",
              "    docs-tfh:\"\" info_params:{}  ... 5.2  yx 6.2 0.79 0].8 [[null.2 null.199  \\\n",
              "0           NaN            NaN  ... NaN NaN NaN  NaN  NaN      NaN      NaN   \n",
              "1           NaN            NaN  ... NaN NaN NaN  NaN  NaN      NaN      NaN   \n",
              "2           NaN            NaN  ... NaN NaN NaN  NaN  NaN      NaN      NaN   \n",
              "3           NaN            NaN  ... NaN NaN NaN  NaN  NaN      NaN      NaN   \n",
              "4           NaN            NaN  ... NaN NaN NaN  NaN  NaN      NaN      NaN   \n",
              "..          ...            ...  ...  ..  ..  ..  ...  ...      ...      ...   \n",
              "167         NaN            NaN  ... NaN NaN NaN  NaN  NaN      NaN      NaN   \n",
              "168         NaN            NaN  ... NaN NaN NaN  NaN  NaN      NaN      NaN   \n",
              "169         NaN            NaN  ... NaN NaN NaN  NaN  NaN      NaN      NaN   \n",
              "170         NaN            NaN  ... NaN NaN NaN  NaN  NaN      NaN      NaN   \n",
              "171         NaN            NaN  ... NaN NaN NaN  NaN  NaN      NaN      NaN   \n",
              "\n",
              "    null.200  \\\n",
              "0        NaN   \n",
              "1        NaN   \n",
              "2        NaN   \n",
              "3        NaN   \n",
              "4        NaN   \n",
              "..       ...   \n",
              "167      NaN   \n",
              "168      NaN   \n",
              "169      NaN   \n",
              "170      NaN   \n",
              "171      NaN   \n",
              "\n",
              "    https://www.gstatic.com/og/_/js/k=og.qtm.en_US.cC11C01Tjwk.O/rt=j/m=qabr,q_dnp,qapid/exm=qaaw,qadd,qaid,qein,qhaw,qhbr,qhch,qhga,qhid,qhin,qhpr/d=1/ed=1/rs=AA2YrTuHUesXoCpe5dCyb_4NLmzk64EOcA]]]]  \\\n",
              "0                                                  NaN                                                                                                                                                   \n",
              "1                                                  NaN                                                                                                                                                   \n",
              "2                                                  NaN                                                                                                                                                   \n",
              "3                                                  NaN                                                                                                                                                   \n",
              "4                                                  NaN                                                                                                                                                   \n",
              "..                                                 ...                                                                                                                                                   \n",
              "167                                                NaN                                                                                                                                                   \n",
              "168                                                NaN                                                                                                                                                   \n",
              "169                                                NaN                                                                                                                                                   \n",
              "170                                                NaN                                                                                                                                                   \n",
              "171                                                NaN                                                                                                                                                   \n",
              "\n",
              "    };this.gbar_=this.gbar_||{};(function(_){var window=this;  \n",
              "0                                                  NaN         \n",
              "1                                                  NaN         \n",
              "2                                                  NaN         \n",
              "3                                                  NaN         \n",
              "4                                                  NaN         \n",
              "..                                                 ...         \n",
              "167                                                NaN         \n",
              "168                                                NaN         \n",
              "169                                                NaN         \n",
              "170                                                NaN         \n",
              "171                                                NaN         \n",
              "\n",
              "[172 rows x 781 columns]>"
            ]
          },
          "metadata": {},
          "execution_count": 1
        }
      ]
    },
    {
      "cell_type": "code",
      "source": [
        "y = [(2, 4), (7, 8), (1, 5, 9)]\n",
        "\n",
        "x= y[1][1]\n",
        "\n",
        "x"
      ],
      "metadata": {
        "colab": {
          "base_uri": "https://localhost:8080/"
        },
        "id": "4VsYau58iA0x",
        "outputId": "0628f08b-267a-4b55-9c8a-000f4333f48d"
      },
      "execution_count": 2,
      "outputs": [
        {
          "output_type": "execute_result",
          "data": {
            "text/plain": [
              "8"
            ]
          },
          "metadata": {},
          "execution_count": 2
        }
      ]
    },
    {
      "cell_type": "code",
      "source": [
        "lst = [[35, 'Portugal', 94], [33, 'Argentina', 93], [30 , 'Brazil', 92]]\n",
        "\n",
        "col = [\"Age\",\"Nationality\",\"Overall\"]\n",
        "\n",
        "pd.DataFrame(lst, columns=col, index=[i for i in range(1,4)])\n",
        "\n",
        "S = [['him', 'sell'], [90, 28, 43]]\n",
        "\n",
        "S[0][1][1]"
      ],
      "metadata": {
        "colab": {
          "base_uri": "https://localhost:8080/",
          "height": 35
        },
        "id": "wxv4sO3Je-kD",
        "outputId": "eca6b4fc-f855-479a-aafb-87a6f8b714d7"
      },
      "execution_count": 3,
      "outputs": [
        {
          "output_type": "execute_result",
          "data": {
            "text/plain": [
              "'e'"
            ],
            "application/vnd.google.colaboratory.intrinsic+json": {
              "type": "string"
            }
          },
          "metadata": {},
          "execution_count": 3
        }
      ]
    },
    {
      "cell_type": "code",
      "source": [
        "fbs.groupby('Item')['item'].sum()\n"
      ],
      "metadata": {
        "colab": {
          "base_uri": "https://localhost:8080/",
          "height": 329
        },
        "id": "SvdmowU-gkpF",
        "outputId": "cdc3a3dc-207c-4ccb-f2f4-27b868e57183"
      },
      "execution_count": 4,
      "outputs": [
        {
          "output_type": "error",
          "ename": "KeyError",
          "evalue": "ignored",
          "traceback": [
            "\u001b[0;31m---------------------------------------------------------------------------\u001b[0m",
            "\u001b[0;31mKeyError\u001b[0m                                  Traceback (most recent call last)",
            "\u001b[0;32m<ipython-input-4-cb7492f0bc8c>\u001b[0m in \u001b[0;36m<module>\u001b[0;34m\u001b[0m\n\u001b[0;32m----> 1\u001b[0;31m \u001b[0mfbs\u001b[0m\u001b[0;34m.\u001b[0m\u001b[0mgroupby\u001b[0m\u001b[0;34m(\u001b[0m\u001b[0;34m'Item'\u001b[0m\u001b[0;34m)\u001b[0m\u001b[0;34m[\u001b[0m\u001b[0;34m'item'\u001b[0m\u001b[0;34m]\u001b[0m\u001b[0;34m.\u001b[0m\u001b[0msum\u001b[0m\u001b[0;34m(\u001b[0m\u001b[0;34m)\u001b[0m\u001b[0;34m\u001b[0m\u001b[0;34m\u001b[0m\u001b[0m\n\u001b[0m",
            "\u001b[0;32m/usr/local/lib/python3.7/dist-packages/pandas/core/frame.py\u001b[0m in \u001b[0;36mgroupby\u001b[0;34m(self, by, axis, level, as_index, sort, group_keys, squeeze, observed, dropna)\u001b[0m\n\u001b[1;32m   7639\u001b[0m             \u001b[0msqueeze\u001b[0m\u001b[0;34m=\u001b[0m\u001b[0msqueeze\u001b[0m\u001b[0;34m,\u001b[0m  \u001b[0;31m# type: ignore[arg-type]\u001b[0m\u001b[0;34m\u001b[0m\u001b[0;34m\u001b[0m\u001b[0m\n\u001b[1;32m   7640\u001b[0m             \u001b[0mobserved\u001b[0m\u001b[0;34m=\u001b[0m\u001b[0mobserved\u001b[0m\u001b[0;34m,\u001b[0m\u001b[0;34m\u001b[0m\u001b[0;34m\u001b[0m\u001b[0m\n\u001b[0;32m-> 7641\u001b[0;31m             \u001b[0mdropna\u001b[0m\u001b[0;34m=\u001b[0m\u001b[0mdropna\u001b[0m\u001b[0;34m,\u001b[0m\u001b[0;34m\u001b[0m\u001b[0;34m\u001b[0m\u001b[0m\n\u001b[0m\u001b[1;32m   7642\u001b[0m         )\n\u001b[1;32m   7643\u001b[0m \u001b[0;34m\u001b[0m\u001b[0m\n",
            "\u001b[0;32m/usr/local/lib/python3.7/dist-packages/pandas/core/groupby/groupby.py\u001b[0m in \u001b[0;36m__init__\u001b[0;34m(self, obj, keys, axis, level, grouper, exclusions, selection, as_index, sort, group_keys, squeeze, observed, mutated, dropna)\u001b[0m\n\u001b[1;32m    895\u001b[0m                 \u001b[0mobserved\u001b[0m\u001b[0;34m=\u001b[0m\u001b[0mobserved\u001b[0m\u001b[0;34m,\u001b[0m\u001b[0;34m\u001b[0m\u001b[0;34m\u001b[0m\u001b[0m\n\u001b[1;32m    896\u001b[0m                 \u001b[0mmutated\u001b[0m\u001b[0;34m=\u001b[0m\u001b[0mself\u001b[0m\u001b[0;34m.\u001b[0m\u001b[0mmutated\u001b[0m\u001b[0;34m,\u001b[0m\u001b[0;34m\u001b[0m\u001b[0;34m\u001b[0m\u001b[0m\n\u001b[0;32m--> 897\u001b[0;31m                 \u001b[0mdropna\u001b[0m\u001b[0;34m=\u001b[0m\u001b[0mself\u001b[0m\u001b[0;34m.\u001b[0m\u001b[0mdropna\u001b[0m\u001b[0;34m,\u001b[0m\u001b[0;34m\u001b[0m\u001b[0;34m\u001b[0m\u001b[0m\n\u001b[0m\u001b[1;32m    898\u001b[0m             )\n\u001b[1;32m    899\u001b[0m \u001b[0;34m\u001b[0m\u001b[0m\n",
            "\u001b[0;32m/usr/local/lib/python3.7/dist-packages/pandas/core/groupby/grouper.py\u001b[0m in \u001b[0;36mget_grouper\u001b[0;34m(obj, key, axis, level, sort, observed, mutated, validate, dropna)\u001b[0m\n\u001b[1;32m    860\u001b[0m                 \u001b[0min_axis\u001b[0m\u001b[0;34m,\u001b[0m \u001b[0mlevel\u001b[0m\u001b[0;34m,\u001b[0m \u001b[0mgpr\u001b[0m \u001b[0;34m=\u001b[0m \u001b[0;32mFalse\u001b[0m\u001b[0;34m,\u001b[0m \u001b[0mgpr\u001b[0m\u001b[0;34m,\u001b[0m \u001b[0;32mNone\u001b[0m\u001b[0;34m\u001b[0m\u001b[0;34m\u001b[0m\u001b[0m\n\u001b[1;32m    861\u001b[0m             \u001b[0;32melse\u001b[0m\u001b[0;34m:\u001b[0m\u001b[0;34m\u001b[0m\u001b[0;34m\u001b[0m\u001b[0m\n\u001b[0;32m--> 862\u001b[0;31m                 \u001b[0;32mraise\u001b[0m \u001b[0mKeyError\u001b[0m\u001b[0;34m(\u001b[0m\u001b[0mgpr\u001b[0m\u001b[0;34m)\u001b[0m\u001b[0;34m\u001b[0m\u001b[0;34m\u001b[0m\u001b[0m\n\u001b[0m\u001b[1;32m    863\u001b[0m         \u001b[0;32melif\u001b[0m \u001b[0misinstance\u001b[0m\u001b[0;34m(\u001b[0m\u001b[0mgpr\u001b[0m\u001b[0;34m,\u001b[0m \u001b[0mGrouper\u001b[0m\u001b[0;34m)\u001b[0m \u001b[0;32mand\u001b[0m \u001b[0mgpr\u001b[0m\u001b[0;34m.\u001b[0m\u001b[0mkey\u001b[0m \u001b[0;32mis\u001b[0m \u001b[0;32mnot\u001b[0m \u001b[0;32mNone\u001b[0m\u001b[0;34m:\u001b[0m\u001b[0;34m\u001b[0m\u001b[0;34m\u001b[0m\u001b[0m\n\u001b[1;32m    864\u001b[0m             \u001b[0;31m# Add key to exclusions\u001b[0m\u001b[0;34m\u001b[0m\u001b[0;34m\u001b[0m\u001b[0;34m\u001b[0m\u001b[0m\n",
            "\u001b[0;31mKeyError\u001b[0m: 'Item'"
          ]
        }
      ]
    },
    {
      "cell_type": "code",
      "source": [
        "array  = ([[94, 89, 63],  [93, 92, 48], [92, 94, 56]])"
      ],
      "metadata": {
        "id": "n4_-5xS0iyWU"
      },
      "execution_count": null,
      "outputs": []
    }
  ]
}